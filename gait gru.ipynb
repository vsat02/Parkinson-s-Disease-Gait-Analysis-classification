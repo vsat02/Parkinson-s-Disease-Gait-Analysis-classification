{
 "cells": [
  {
   "cell_type": "code",
   "execution_count": 1,
   "id": "c2e6e8dc",
   "metadata": {},
   "outputs": [],
   "source": [
    "import numpy as np\n",
    "from numpy import mean\n",
    "from numpy import std\n",
    "from numpy import dstack \n",
    "from pandas import read_csv\n",
    "from matplotlib import pyplot as plt\n",
    "from sklearn.model_selection import train_test_split\n",
    "from sklearn.metrics import confusion_matrix, auc, RocCurveDisplay, classification_report, ConfusionMatrixDisplay, RocCurveDisplay, precision_score, recall_score, roc_auc_score\n",
    "\n",
    "import tensorflow as tf \n",
    "from tensorflow.keras.models import Model\n",
    "from tensorflow.keras.layers import Dense \n",
    "from tensorflow.keras.layers import Input\n",
    "from tensorflow.keras.layers import Flatten \n",
    "from tensorflow.keras.layers import Dropout \n",
    "from tensorflow.keras.layers  import Conv1D  \n",
    "from tensorflow.keras.utils import plot_model\n",
    "\n",
    "from tensorflow.keras.models import Sequential\n",
    "from tensorflow.keras.layers import concatenate\n",
    "from tensorflow.keras.utils import to_categorical\n",
    "from tensorflow.keras.layers  import MaxPooling1D\n",
    "\n",
    "from tensorflow import keras \n",
    "from tensorflow.keras import layers\n",
    "from tensorflow.keras.models import Sequential\n",
    "from tensorflow.keras.layers import  LSTM, GRU, SimpleRNN "
   ]
  },
  {
   "cell_type": "markdown",
   "id": "3f6435ee",
   "metadata": {},
   "source": [
    "# DATASET PROCESSING"
   ]
  },
  {
   "cell_type": "code",
   "execution_count": 2,
   "id": "bbb176c6",
   "metadata": {},
   "outputs": [],
   "source": [
    "# load a single file as a numpy array\n",
    "def load_file(filepath): \n",
    "\tdataframe = read_csv(filepath, header=None, delim_whitespace=True)\n",
    "\treturn dataframe.values "
   ]
  },
  {
   "cell_type": "code",
   "execution_count": 3,
   "id": "297dd2f2",
   "metadata": {},
   "outputs": [],
   "source": [
    "# load a list of files and return as a 3d numpy array\n",
    "def load_group(filenames, prefix=''):\n",
    "\tloaded = list() \n",
    "\tfor name in filenames:\n",
    "\t\tdata = load_file(prefix + name)\n",
    "\t\tloaded.append(data)\n",
    "        \n",
    "\t# stack group so that features are the 3rd dimension\n",
    "\tloaded = np.concatenate(loaded)\n",
    "\treturn loaded     "
   ]
  },
  {
   "cell_type": "code",
   "execution_count": 8,
   "id": "f7cddfdf",
   "metadata": {},
   "outputs": [],
   "source": [
    "# load a dataset group, such as train or test\n",
    "def load_dataset_group():\n",
    "\tfilepath = \"C:\\\\Users\\\\vvsat\\\\Documents\\\\machine learning\\\\gait parkinsons\\\\binary classification\\\\dataset\\\\dataset\\\\\"\n",
    "    \n",
    "\t# load all files as a single array\n",
    "\tfilenames = list()\n",
    "    \n",
    "\tfilenames = ['test.txt'] \n",
    "    \n",
    "\t# load input data\n",
    "\tX = load_group(filenames, filepath)\n",
    "    \n",
    "    \n",
    "\t# load class output\n",
    "\t# load input data\n",
    "\ty = load_file(\"C:\\\\Users\\\\vvsat\\\\Documents\\\\machine learning\\\\gait parkinsons\\\\binary classification\\\\dataset\\\\dataset\\\\target_test.txt\")\n",
    "\treturn X, y"
   ]
  },
  {
   "cell_type": "code",
   "execution_count": 9,
   "id": "df32d170",
   "metadata": {},
   "outputs": [],
   "source": [
    "# load the dataset, returns train and test X and y elements\n",
    "def load_dataset(prefix=''):\n",
    "    \n",
    "\tX, y = load_dataset_group()\n",
    "\tprint(X.shape, y.shape) \n",
    "       \n",
    "\t# load all train\n",
    "\ttrainX, testX, trainy, testy = train_test_split(X, y, test_size=0.25, random_state=27) \n",
    "    \n",
    "\t# zero-offset class values\n",
    "\ttrainy = trainy - 1\n",
    "\ttesty = testy - 1\n",
    "    \n",
    "\t# one hot encode y\n",
    "\ttrainy = to_categorical(trainy)\n",
    "\ttesty = to_categorical(testy)\n",
    "    \n",
    "\tprint(trainX.shape, trainy.shape, testX.shape, testy.shape)\n",
    "\treturn trainX, trainy, testX, testy"
   ]
  },
  {
   "cell_type": "markdown",
   "id": "3f8a71ea",
   "metadata": {},
   "source": [
    "# MODEL BUILDING"
   ]
  },
  {
   "cell_type": "code",
   "execution_count": 10,
   "id": "aa457fa7",
   "metadata": {},
   "outputs": [
    {
     "name": "stdout",
     "output_type": "stream",
     "text": [
      "(24238, 18) (24238, 1)\n",
      "(18178, 18) (18178, 2) (6060, 18) (6060, 2)\n",
      "18178 18 18178\n",
      "trainX shape :  (18178, 18)\n",
      "trainy shape :  (18178, 2)\n",
      "Model: \"sequential\"\n",
      "_________________________________________________________________\n",
      " Layer (type)                Output Shape              Param #   \n",
      "=================================================================\n",
      " gru (GRU)                   (None, None, 64)          12864     \n",
      "                                                                 \n",
      " gru_1 (GRU)                 (None, None, 128)         74496     \n",
      "                                                                 \n",
      " gru_2 (GRU)                 (None, 256)               296448    \n",
      "                                                                 \n",
      " dropout (Dropout)           (None, 256)               0         \n",
      "                                                                 \n",
      " dense (Dense)               (None, 2)                 514       \n",
      "                                                                 \n",
      "=================================================================\n",
      "Total params: 384,322\n",
      "Trainable params: 384,322\n",
      "Non-trainable params: 0\n",
      "_________________________________________________________________\n"
     ]
    }
   ],
   "source": [
    "# load data\n",
    "trainX, trainy, testX, testy = load_dataset()\n",
    "    \n",
    "verbose, epochs, batch_size = 0, 10, 32\n",
    "n_timesteps, n_features, n_outputs = trainX.shape[0], trainX.shape[1], trainy.shape[0]\n",
    "print(n_timesteps, n_features, n_outputs)\n",
    "   \n",
    "print(\"trainX shape : \",trainX.shape) \n",
    "print(\"trainy shape : \",trainy.shape)  \n",
    "    \n",
    "#Build the LSTM model \n",
    "# LSTM Layer returns whole_seq_output, final_memory_state, and final_carry_state \n",
    "model = Sequential()\n",
    "model.add(GRU(64, return_sequences=True, input_shape=(None, 1)))\n",
    "model.add(GRU(128, return_sequences= True))\n",
    "model.add(GRU(256, return_sequences= False))  \n",
    "    \n",
    "model.add(Dropout(rate = 0.5)) \n",
    " \n",
    "model.add(Dense(2)) \n",
    "model.summary()  \n",
    "\n",
    "# learning rate decay\n",
    "initial_learning_rate = 0.001\n",
    "lr_schedule = keras.optimizers.schedules.ExponentialDecay(\n",
    "    initial_learning_rate, decay_steps=100000, decay_rate=0.96, staircase=True\n",
    ")\n",
    "\n",
    "# Compile the model \n",
    "model.compile(optimizer = keras.optimizers.Adam(learning_rate=lr_schedule), \n",
    "              loss=keras.losses.CategoricalCrossentropy(from_logits=True),\n",
    "              metrics=['accuracy'])  "
   ]
  },
  {
   "cell_type": "markdown",
   "id": "f87dfc1f",
   "metadata": {},
   "source": [
    "   # TRAINING THE  MODEL  WITH GRU"
   ]
  },
  {
   "cell_type": "code",
   "execution_count": 7,
   "id": "3655e210",
   "metadata": {},
   "outputs": [
    {
     "name": "stdout",
     "output_type": "stream",
     "text": [
      "Epoch 1/5\n",
      "2489/2489 [==============================] - 48s 15ms/step - loss: 0.3580 - accuracy: 0.8362 - val_loss: 0.1553 - val_accuracy: 0.9402\n",
      "Epoch 2/5\n",
      "2489/2489 [==============================] - 38s 15ms/step - loss: 0.1092 - accuracy: 0.9593 - val_loss: 0.1216 - val_accuracy: 0.9540\n",
      "Epoch 3/5\n",
      "2489/2489 [==============================] - 37s 15ms/step - loss: 0.0726 - accuracy: 0.9735 - val_loss: 0.0642 - val_accuracy: 0.9762\n",
      "Epoch 4/5\n",
      "2489/2489 [==============================] - 38s 15ms/step - loss: 0.0571 - accuracy: 0.9790 - val_loss: 0.0571 - val_accuracy: 0.9790\n",
      "Epoch 5/5\n",
      "2489/2489 [==============================] - 38s 15ms/step - loss: 0.0489 - accuracy: 0.9820 - val_loss: 0.0497 - val_accuracy: 0.9817\n"
     ]
    }
   ],
   "source": [
    "#fitting the model  \n",
    "history = model.fit(trainX, \n",
    "                    trainy, \n",
    "                    epochs=5,\n",
    "                    batch_size=800,\n",
    "                    validation_split=0.2,\n",
    "                    verbose=1)           "
   ]
  },
  {
   "cell_type": "markdown",
   "id": "135d5b58",
   "metadata": {},
   "source": [
    "# SAVING THE MODEL"
   ]
  },
  {
   "cell_type": "code",
   "execution_count": 8,
   "id": "079c22c1",
   "metadata": {},
   "outputs": [],
   "source": [
    "model.save('binary_gru.h5') "
   ]
  },
  {
   "cell_type": "code",
   "execution_count": 11,
   "id": "07b74034",
   "metadata": {},
   "outputs": [],
   "source": [
    "model = tf.keras.models.load_model('binary_gru_product.h5')"
   ]
  },
  {
   "cell_type": "markdown",
   "id": "5f562125",
   "metadata": {},
   "source": [
    "# PLOTTING THE METRICS"
   ]
  },
  {
   "cell_type": "code",
   "execution_count": 9,
   "id": "9e146608",
   "metadata": {},
   "outputs": [
    {
     "data": {
      "image/png": "[encoded data removed]",
      "text/plain": [
       "<Figure size 432x288 with 1 Axes>"
      ]
     },
     "metadata": {
      "needs_background": "light"
     },
     "output_type": "display_data"
    },
    {
     "data": {
      "text/plain": [
       "<Figure size 432x288 with 0 Axes>"
      ]
     },
     "metadata": {},
     "output_type": "display_data"
    },
    {
     "data": {
      "image/png": "[encoded data removed]",
      "text/plain": [
       "<Figure size 432x288 with 1 Axes>"
      ]
     },
     "metadata": {
      "needs_background": "light"
     },
     "output_type": "display_data"
    }
   ],
   "source": [
    "train_acc = history.history['accuracy'] \n",
    "train_loss = history.history['loss'] \n",
    "val_acc = history.history['val_accuracy'] \n",
    "val_loss = history.history['val_loss']\n",
    "\n",
    "epochs = range(len(train_acc))  \n",
    "\n",
    "plt.plot(epochs, train_acc, 'b', label='Training Accuracy')\n",
    "plt.plot(epochs, val_acc, 'r', label='Validation Accuracy')\n",
    "plt.title('Training and Validation Accuracy')\n",
    "plt.legend()\n",
    "plt.figure()\n",
    "plt.show()\n",
    "\n",
    "plt.plot(epochs, train_loss, 'b', label='Training Loss')\n",
    "plt.plot(epochs, val_loss, 'r', label='Validation Loss')\n",
    "plt.title('Training and Validation Loss')\n",
    "plt.legend()\n",
    "plt.show() "
   ]
  },
  {
   "cell_type": "markdown",
   "id": "8e3b2815",
   "metadata": {},
   "source": [
    "# MODEL EVALUATION"
   ]
  },
  {
   "cell_type": "code",
   "execution_count": 12,
   "id": "087dc4ee",
   "metadata": {},
   "outputs": [
    {
     "name": "stdout",
     "output_type": "stream",
     "text": [
      "Evaluate on test data\n",
      "8/8 [==============================] - 10s 7ms/step - loss: 0.0269 - accuracy: 0.9909\n",
      "test loss, test acc: [0.02687179483473301, 0.9909241199493408]\n"
     ]
    }
   ],
   "source": [
    "# Evaluate the model on the test data using `evaluate`\n",
    "print(\"Evaluate on test data\")\n",
    "results = model.evaluate(testX, testy, batch_size=800)\n",
    "print(\"test loss, test acc:\", results) "
   ]
  },
  {
   "cell_type": "code",
   "execution_count": 13,
   "id": "c969f188",
   "metadata": {},
   "outputs": [],
   "source": [
    "y_pred = model.predict(testX) \n",
    "y_pred = np.argmax(y_pred, axis=1)\n",
    "y_test = np.argmax(testy, axis=1) "
   ]
  },
  {
   "cell_type": "code",
   "execution_count": 14,
   "id": "9b957134",
   "metadata": {},
   "outputs": [
    {
     "data": {
      "text/plain": [
       "array([1, 1, 1, ..., 1, 1, 1], dtype=int64)"
      ]
     },
     "execution_count": 14,
     "metadata": {},
     "output_type": "execute_result"
    }
   ],
   "source": [
    "print(y_pred)"
   ]
  },
  {
   "cell_type": "markdown",
   "id": "2dcdc2c7",
   "metadata": {},
   "source": [
    "# CONFUSION MATRIX"
   ]
  },
  {
   "cell_type": "code",
   "execution_count": 14,
   "id": "416310eb",
   "metadata": {},
   "outputs": [
    {
     "data": {
      "image/png": "[encoded data removed]",
      "text/plain": [
       "<Figure size 432x288 with 2 Axes>"
      ]
     },
     "metadata": {
      "needs_background": "light"
     },
     "output_type": "display_data"
    }
   ],
   "source": [
    "cm = confusion_matrix(y_test, y_pred)\n",
    "disp = ConfusionMatrixDisplay(confusion_matrix=cm)\n",
    "disp.plot()\n",
    "plt.show() "
   ]
  },
  {
   "cell_type": "markdown",
   "id": "8363f339",
   "metadata": {},
   "source": [
    "# DISPLAYING PRECISION, RECALL AND AUC"
   ]
  },
  {
   "cell_type": "code",
   "execution_count": 15,
   "id": "5759f83c",
   "metadata": {},
   "outputs": [
    {
     "name": "stdout",
     "output_type": "stream",
     "text": [
      "precision score :  0.9816864965492629 \n",
      " recall score :  0.9816864965492629\n"
     ]
    }
   ],
   "source": [
    "print('precision score : ', precision_score(y_test, y_pred, average = 'micro'),\n",
    "      '\\n', 'recall score : ', recall_score(y_test, y_pred, average = 'micro'))"
   ]
  },
  {
   "cell_type": "code",
   "execution_count": 30,
   "id": "57d6d924",
   "metadata": {},
   "outputs": [
    {
     "data": {
      "text/plain": [
       "0.9781414132357368"
      ]
     },
     "execution_count": 30,
     "metadata": {},
     "output_type": "execute_result"
    }
   ],
   "source": [
    "from sklearn import metrics\n",
    "fpr, tpr, thresholds = metrics.roc_curve(y_test, y_pred, pos_label=1)\n",
    "roc_auc = metrics.auc(fpr, tpr) \n",
    "roc_auc"
   ]
  },
  {
   "cell_type": "code",
   "execution_count": 28,
   "id": "2f05d827",
   "metadata": {},
   "outputs": [
    {
     "data": {
      "text/plain": [
       "<sklearn.metrics._plot.roc_curve.RocCurveDisplay at 0x262686eceb0>"
      ]
     },
     "execution_count": 28,
     "metadata": {},
     "output_type": "execute_result"
    },
    {
     "data": {
      "image/png": "[encoded data removed]",
      "text/plain": [
       "<Figure size 432x288 with 1 Axes>"
      ]
     },
     "metadata": {
      "needs_background": "light"
     },
     "output_type": "display_data"
    }
   ],
   "source": [
    "display = metrics.RocCurveDisplay(fpr=fpr, tpr=tpr, roc_auc=roc_auc)\n",
    "display.plot()"
   ]
  }
 ],
 "metadata": {
  "kernelspec": {
   "display_name": "Python 3 (ipykernel)",
   "language": "python",
   "name": "python3"
  },
  "language_info": {
   "codemirror_mode": {
    "name": "ipython",
    "version": 3
   },
   "file_extension": ".py",
   "mimetype": "text/x-python",
   "name": "python",
   "nbconvert_exporter": "python",
   "pygments_lexer": "ipython3",
   "version": "3.9.7"
  }
 },
 "nbformat": 4,
 "nbformat_minor": 5
}
